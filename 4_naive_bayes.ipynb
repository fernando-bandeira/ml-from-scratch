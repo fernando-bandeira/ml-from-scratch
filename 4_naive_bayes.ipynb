{
 "cells": [
  {
   "cell_type": "code",
   "execution_count": 123,
   "id": "5ed3f0eb",
   "metadata": {},
   "outputs": [],
   "source": [
    "X = [\n",
    "    {\"Marital\": \"Married\", \"Job\": \"Stable\", \"Credit\": \"Good\", \"Age\": 45, \"Salary\": 6000},\n",
    "    {\"Marital\": \"Married\", \"Job\": \"Stable\", \"Credit\": \"Good\", \"Age\": 38, \"Salary\": 7000},\n",
    "    {\"Marital\": \"Single\", \"Job\": \"Stable\", \"Credit\": \"Good\", \"Age\": 30, \"Salary\": 4000},\n",
    "    {\"Marital\": \"Single\", \"Job\": \"Unstable\", \"Credit\": \"Bad\", \"Age\": 28, \"Salary\": 3000},\n",
    "    {\"Marital\": \"Married\", \"Job\": \"Unstable\", \"Credit\": \"Bad\", \"Age\": 22, \"Salary\": 2500},\n",
    "    {\"Marital\": \"Single\", \"Job\": \"Unstable\", \"Credit\": \"Bad\", \"Age\": 25, \"Salary\": 2000},\n",
    "    {\"Marital\": \"Married\", \"Job\": \"Stable\", \"Credit\": \"Bad\", \"Age\": 35, \"Salary\": 5000},\n",
    "    {\"Marital\": \"Single\", \"Job\": \"Unstable\", \"Credit\": \"Good\", \"Age\": 32, \"Salary\": 4500},\n",
    "    {\"Marital\": \"Married\", \"Job\": \"Stable\", \"Credit\": \"Good\", \"Age\": 27, \"Salary\": 3500},\n",
    "    {\"Marital\": \"Single\", \"Job\": \"Unstable\", \"Credit\": \"Good\", \"Age\": 29, \"Salary\": 4800},\n",
    "]\n",
    "\n",
    "y = [\n",
    "    \"Approved\",\n",
    "    \"Approved\",\n",
    "    \"Approved\",\n",
    "    \"Denied\",\n",
    "    \"Denied\",\n",
    "    \"Denied\",\n",
    "    \"Approved\",\n",
    "    \"Approved\",\n",
    "    \"Denied\",\n",
    "    \"Approved\",\n",
    "]"
   ]
  },
  {
   "cell_type": "code",
   "execution_count": 124,
   "id": "9b9e5d36",
   "metadata": {},
   "outputs": [
    {
     "data": {
      "text/plain": [
       "'Approved'"
      ]
     },
     "execution_count": 124,
     "metadata": {},
     "output_type": "execute_result"
    }
   ],
   "source": [
    "from math import pi, e\n",
    "\n",
    "def std_dev(mean, data):\n",
    "    std_dev = (sum(((p - mean) ** 2 for p in data)) / len(data)) ** 0.5\n",
    "    return max(std_dev, 1e-6)\n",
    "\n",
    "def gaussian_density(mean, std_dev, x):\n",
    "    a = 1 / (2 * pi * std_dev ** 2) ** 0.5\n",
    "    b = e ** -(((x - mean) ** 2) / (2 * std_dev ** 2))\n",
    "    return a * b\n",
    "\n",
    "def naive_bayes(X, y, sample, alpha=1):\n",
    "    classes = set(y)\n",
    "    classes_probabilities = dict()\n",
    "    for cls in classes:\n",
    "        class_probability = y.count(cls) / len(y)  # prior\n",
    "        class_points = [point for point, label in zip(X, y) if label == cls]\n",
    "        for feature, value in sample.items():\n",
    "            if isinstance(value, str):\n",
    "                count = sum(1 for p in class_points if p[feature] == value)\n",
    "                num_values = len(set(p[feature] for p in class_points))\n",
    "                class_probability *= (count + alpha) / (len(class_points) + alpha * num_values)\n",
    "            if isinstance(value, (int, float)):\n",
    "                mean = sum(p[feature] for p in class_points) / len(class_points)\n",
    "                sd = std_dev(mean, [p[feature] for p in class_points])\n",
    "                class_probability *= gaussian_density(mean, sd, value)\n",
    "        classes_probabilities[cls] = class_probability\n",
    "    return max(classes_probabilities, key=classes_probabilities.get)\n",
    "\n",
    "naive_bayes(X, y, {\"Marital\": \"Married\", \"Job\": \"Stable\", \"Credit\": \"Good\", \"Age\": 31, \"Salary\": 5000})"
   ]
  }
 ],
 "metadata": {
  "kernelspec": {
   "display_name": "venv (3.9.6)",
   "language": "python",
   "name": "python3"
  },
  "language_info": {
   "codemirror_mode": {
    "name": "ipython",
    "version": 3
   },
   "file_extension": ".py",
   "mimetype": "text/x-python",
   "name": "python",
   "nbconvert_exporter": "python",
   "pygments_lexer": "ipython3",
   "version": "3.9.6"
  }
 },
 "nbformat": 4,
 "nbformat_minor": 5
}
